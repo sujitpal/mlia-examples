{
 "metadata": {
  "name": "",
  "signature": "sha256:1f85c85042494ff45938b5d196b4b57009793053dbeb3871ae41d9c246e157f7"
 },
 "nbformat": 3,
 "nbformat_minor": 0,
 "worksheets": [
  {
   "cells": [
    {
     "cell_type": "markdown",
     "metadata": {},
     "source": [
      "## Chapter 2: Basic Operations ##\n",
      "\n",
      "### Vectors, Data, Matrices and Subsetting ###"
     ]
    },
    {
     "cell_type": "code",
     "collapsed": false,
     "input": [
      "from __future__ import division\n",
      "import pandas as pd\n",
      "import numpy as np\n",
      "import matplotlib.pyplot as plt\n",
      "%matplotlib inline\n",
      "# I only added a small alteration to the notebooks which is the following two liknes\n",
      "import seaborn as sns\n",
      "sns.set(style=\"ticks\")\n"
     ],
     "language": "python",
     "metadata": {},
     "outputs": [],
     "prompt_number": 3
    },
    {
     "cell_type": "code",
     "collapsed": false,
     "input": [
      "x = np.array([2,7,5])    # explicit vector creation\n",
      "x"
     ],
     "language": "python",
     "metadata": {},
     "outputs": [
      {
       "metadata": {},
       "output_type": "pyout",
       "prompt_number": 4,
       "text": [
        "array([2, 7, 5])"
       ]
      }
     ],
     "prompt_number": 4
    },
    {
     "cell_type": "code",
     "collapsed": false,
     "input": [
      "y = np.arange(4, 13, 3)  # vector creation from a sequence (start, stop, step)\n",
      "y"
     ],
     "language": "python",
     "metadata": {},
     "outputs": [
      {
       "metadata": {},
       "output_type": "pyout",
       "prompt_number": 5,
       "text": [
        "array([ 4,  7, 10])"
       ]
      }
     ],
     "prompt_number": 5
    },
    {
     "cell_type": "code",
     "collapsed": false,
     "input": [
      "x + y    # vectors can be added"
     ],
     "language": "python",
     "metadata": {},
     "outputs": [
      {
       "metadata": {},
       "output_type": "pyout",
       "prompt_number": 6,
       "text": [
        "array([ 6, 14, 15])"
       ]
      }
     ],
     "prompt_number": 6
    },
    {
     "cell_type": "code",
     "collapsed": false,
     "input": [
      "x / y    # divided"
     ],
     "language": "python",
     "metadata": {},
     "outputs": [
      {
       "metadata": {},
       "output_type": "pyout",
       "prompt_number": 6,
       "text": [
        "array([ 0.5,  1. ,  0.5])"
       ]
      }
     ],
     "prompt_number": 6
    },
    {
     "cell_type": "code",
     "collapsed": false,
     "input": [
      "x ^ y    # exponentiated, although not sure what this means"
     ],
     "language": "python",
     "metadata": {},
     "outputs": [
      {
       "metadata": {},
       "output_type": "pyout",
       "prompt_number": 7,
       "text": [
        "array([ 6,  0, 15])"
       ]
      }
     ],
     "prompt_number": 7
    },
    {
     "cell_type": "code",
     "collapsed": false,
     "input": [
      "x[1]    # vector elements can be selected by position"
     ],
     "language": "python",
     "metadata": {},
     "outputs": [
      {
       "metadata": {},
       "output_type": "pyout",
       "prompt_number": 7,
       "text": [
        "7"
       ]
      }
     ],
     "prompt_number": 7
    },
    {
     "cell_type": "code",
     "collapsed": false,
     "input": [
      "x[1:3]  # multiple elements can be selected using slices"
     ],
     "language": "python",
     "metadata": {},
     "outputs": [
      {
       "metadata": {},
       "output_type": "pyout",
       "prompt_number": 8,
       "text": [
        "array([7, 5])"
       ]
      }
     ],
     "prompt_number": 8
    },
    {
     "cell_type": "code",
     "collapsed": false,
     "input": [
      "x[-2]  # elements can be specified as offset from end"
     ],
     "language": "python",
     "metadata": {},
     "outputs": [
      {
       "metadata": {},
       "output_type": "pyout",
       "prompt_number": 9,
       "text": [
        "7"
       ]
      }
     ],
     "prompt_number": 9
    },
    {
     "cell_type": "code",
     "collapsed": false,
     "input": [
      "x[np.array([0,1])]  # elements can be specified as an array"
     ],
     "language": "python",
     "metadata": {},
     "outputs": [
      {
       "metadata": {},
       "output_type": "pyout",
       "prompt_number": 7,
       "text": [
        "array([2, 7])"
       ]
      }
     ],
     "prompt_number": 7
    },
    {
     "cell_type": "code",
     "collapsed": false,
     "input": [
      "Z = np.matrix(np.arange(1,13)).reshape((4, 3))\n",
      "Z                 # note: R arranges the elements column-wise"
     ],
     "language": "python",
     "metadata": {},
     "outputs": [
      {
       "metadata": {},
       "output_type": "pyout",
       "prompt_number": 11,
       "text": [
        "matrix([[ 1,  2,  3],\n",
        "        [ 4,  5,  6],\n",
        "        [ 7,  8,  9],\n",
        "        [10, 11, 12]])"
       ]
      }
     ],
     "prompt_number": 11
    },
    {
     "cell_type": "code",
     "collapsed": false,
     "input": [
      "Z[2:4, 1:3]    # R is 1-based and includes ending index, Python is 0 based and does not."
     ],
     "language": "python",
     "metadata": {},
     "outputs": [
      {
       "metadata": {},
       "output_type": "pyout",
       "prompt_number": 12,
       "text": [
        "matrix([[ 8,  9],\n",
        "        [11, 12]])"
       ]
      }
     ],
     "prompt_number": 12
    },
    {
     "cell_type": "code",
     "collapsed": false,
     "input": [
      "Z[:, 1:3]    # column slice"
     ],
     "language": "python",
     "metadata": {},
     "outputs": [
      {
       "metadata": {},
       "output_type": "pyout",
       "prompt_number": 13,
       "text": [
        "matrix([[ 2,  3],\n",
        "        [ 5,  6],\n",
        "        [ 8,  9],\n",
        "        [11, 12]])"
       ]
      }
     ],
     "prompt_number": 13
    },
    {
     "cell_type": "code",
     "collapsed": false,
     "input": [
      "Z.shape"
     ],
     "language": "python",
     "metadata": {},
     "outputs": [
      {
       "metadata": {},
       "output_type": "pyout",
       "prompt_number": 14,
       "text": [
        "(4, 3)"
       ]
      }
     ],
     "prompt_number": 14
    },
    {
     "cell_type": "markdown",
     "metadata": {},
     "source": [
      "### Generating Random Data, Graphics ###"
     ]
    },
    {
     "cell_type": "code",
     "collapsed": false,
     "input": [
      "x = np.random.uniform(0.0, 1.0, 50)\n",
      "x"
     ],
     "language": "python",
     "metadata": {},
     "outputs": [
      {
       "metadata": {},
       "output_type": "pyout",
       "prompt_number": 8,
       "text": [
        "array([ 0.93029748,  0.35558007,  0.10929056,  0.6836193 ,  0.84664922,\n",
        "        0.27079347,  0.0865568 ,  0.53280657,  0.0765334 ,  0.69260172,\n",
        "        0.94794449,  0.45984074,  0.81089844,  0.4837619 ,  0.26824751,\n",
        "        0.8602124 ,  0.17265193,  0.92084926,  0.94054001,  0.52132343,\n",
        "        0.69265601,  0.79261434,  0.69653901,  0.6790892 ,  0.35678506,\n",
        "        0.97859859,  0.85320659,  0.65076944,  0.54156268,  0.621363  ,\n",
        "        0.01044199,  0.44812545,  0.34877748,  0.740588  ,  0.07996319,\n",
        "        0.84393118,  0.23329298,  0.91380942,  0.42377812,  0.6336851 ,\n",
        "        0.28781834,  0.39113656,  0.72818469,  0.67715716,  0.16867165,\n",
        "        0.13667188,  0.2829867 ,  0.47315403,  0.31653301,  0.85389779])"
       ]
      }
     ],
     "prompt_number": 8
    },
    {
     "cell_type": "code",
     "collapsed": false,
     "input": [
      "y = np.random.normal(0.0, 1.0, 50)\n",
      "y"
     ],
     "language": "python",
     "metadata": {},
     "outputs": [
      {
       "metadata": {},
       "output_type": "pyout",
       "prompt_number": 9,
       "text": [
        "array([-0.8715703 , -1.2601771 , -1.94657388, -0.49175741,  2.32621519,\n",
        "        0.31236812,  0.60333526,  1.37477191,  0.03211512, -0.81997215,\n",
        "       -1.66969452, -0.63952267, -1.0583783 ,  1.67441602,  0.08161384,\n",
        "       -1.28604866,  0.89766014, -1.08448821,  1.02101785,  0.35630511,\n",
        "       -1.26671127, -0.62363628, -0.76982652,  0.32645764,  0.39490035,\n",
        "        0.381015  , -1.22440542,  0.73410633, -0.38514229,  1.0845276 ,\n",
        "        0.21471719,  0.84866895,  1.21805529,  0.00484397,  0.75559707,\n",
        "       -0.94544211, -0.05411093,  1.21182366,  0.68364291, -0.26159384,\n",
        "       -0.07806414, -0.39878444,  0.77313307, -0.87246297, -0.4273449 ,\n",
        "       -0.06196305, -0.05922963, -0.02550118, -0.93188145,  1.10843695])"
       ]
      }
     ],
     "prompt_number": 9
    },
    {
     "cell_type": "code",
     "collapsed": false,
     "input": [
      "fig, ax = plt.subplots()\n",
      "plt.scatter(x, y)"
     ],
     "language": "python",
     "metadata": {},
     "outputs": [
      {
       "metadata": {},
       "output_type": "pyout",
       "prompt_number": 10,
       "text": [
        "<matplotlib.collections.PathCollection at 0xb8c3c0c>"
       ]
      },
      {
       "metadata": {},
       "output_type": "display_data",
       "png": "[encoded data removed]",
       "text": [
        "<matplotlib.figure.Figure at 0xb84e6ec>"
       ]
      }
     ],
     "prompt_number": 10
    },
    {
     "cell_type": "code",
     "collapsed": false,
     "input": [
      "fig, ax = plt.subplots()\n",
      "plt.xlabel(\"Random Uniform\")\n",
      "plt.ylabel(\"Random Normal\")\n",
      "plt.scatter(x, y, marker='o', color='red')  # plot customizations"
     ],
     "language": "python",
     "metadata": {},
     "outputs": [
      {
       "metadata": {},
       "output_type": "pyout",
       "prompt_number": 11,
       "text": [
        "<matplotlib.collections.PathCollection at 0xb8c3bec>"
       ]
      },
      {
       "metadata": {},
       "output_type": "display_data",
       "png": "[encoded data removed]",
       "text": [
        "<matplotlib.figure.Figure at 0xb866b6c>"
       ]
      }
     ],
     "prompt_number": 11
    },
    {
     "cell_type": "code",
     "collapsed": false,
     "input": [
      "plt.subplot(121)    # parameter indicates 1 rows, 2 col, first figure\n",
      "plt.scatter(x, y)\n",
      "plt.subplot(122)\n",
      "plt.hist(y, normed=True, color=\"#c7658f\", alpha=.5)"
     ],
     "language": "python",
     "metadata": {},
     "outputs": [
      {
       "metadata": {},
       "output_type": "pyout",
       "prompt_number": 27,
       "text": [
        "(array([ 0.09361567,  0.18723133,  0.37446267,  0.32765484,  0.37446267,\n",
        "         0.32765484,  0.32765484,  0.23403917,  0.04680783,  0.04680783]),\n",
        " array([-1.94657388, -1.51929498, -1.09201607, -0.66473716, -0.23745826,\n",
        "         0.18982065,  0.61709956,  1.04437846,  1.47165737,  1.89893628,\n",
        "         2.32621519]),\n",
        " <a list of 10 Patch objects>)"
       ]
      },
      {
       "metadata": {},
       "output_type": "display_data",
       "png": "[encoded data removed]",
       "text": [
        "<matplotlib.figure.Figure at 0xc145ccc>"
       ]
      }
     ],
     "prompt_number": 27
    },
    {
     "cell_type": "markdown",
     "metadata": {},
     "source": [
      "### Reading in data ###"
     ]
    },
    {
     "cell_type": "code",
     "collapsed": false,
     "input": [
      "# data comes from ISL book site: http://www-bcf.usc.edu/~gareth/ISL/data.html\n",
      "auto_df = pd.read_csv(\"../../data/statlearning_notebooks/Auto.csv\")\n",
      "auto_df.columns     # column names"
     ],
     "language": "python",
     "metadata": {},
     "outputs": [
      {
       "metadata": {},
       "output_type": "pyout",
       "prompt_number": 13,
       "text": [
        "Index([u'mpg', u'cylinders', u'displacement', u'horsepower', u'weight', u'acceleration', u'year', u'origin', u'name'], dtype='object')"
       ]
      }
     ],
     "prompt_number": 13
    },
    {
     "cell_type": "code",
     "collapsed": false,
     "input": [
      "auto_df.shape    # number of rows, number of columns"
     ],
     "language": "python",
     "metadata": {},
     "outputs": [
      {
       "metadata": {},
       "output_type": "pyout",
       "prompt_number": 14,
       "text": [
        "(397, 9)"
       ]
      }
     ],
     "prompt_number": 14
    },
    {
     "cell_type": "code",
     "collapsed": false,
     "input": [
      "type(auto_df)"
     ],
     "language": "python",
     "metadata": {},
     "outputs": [
      {
       "metadata": {},
       "output_type": "pyout",
       "prompt_number": 15,
       "text": [
        "pandas.core.frame.DataFrame"
       ]
      }
     ],
     "prompt_number": 15
    },
    {
     "cell_type": "code",
     "collapsed": false,
     "input": [
      "auto_df.describe()  # equivalent of R's DataFrame.summary()"
     ],
     "language": "python",
     "metadata": {},
     "outputs": [
      {
       "html": [
        "<div style=\"max-height:1000px;max-width:1500px;overflow:auto;\">\n",
        "<table border=\"1\" class=\"dataframe\">\n",
        "  <thead>\n",
        "    <tr style=\"text-align: right;\">\n",
        "      <th></th>\n",
        "      <th>mpg</th>\n",
        "      <th>cylinders</th>\n",
        "      <th>displacement</th>\n",
        "      <th>weight</th>\n",
        "      <th>acceleration</th>\n",
        "      <th>year</th>\n",
        "      <th>origin</th>\n",
        "    </tr>\n",
        "  </thead>\n",
        "  <tbody>\n",
        "    <tr>\n",
        "      <th>count</th>\n",
        "      <td> 397.000000</td>\n",
        "      <td> 397.000000</td>\n",
        "      <td> 397.000000</td>\n",
        "      <td>  397.000000</td>\n",
        "      <td> 397.000000</td>\n",
        "      <td> 397.000000</td>\n",
        "      <td> 397.000000</td>\n",
        "    </tr>\n",
        "    <tr>\n",
        "      <th>mean</th>\n",
        "      <td>  23.515869</td>\n",
        "      <td>   5.458438</td>\n",
        "      <td> 193.532746</td>\n",
        "      <td> 2970.261965</td>\n",
        "      <td>  15.555668</td>\n",
        "      <td>  75.994962</td>\n",
        "      <td>   1.574307</td>\n",
        "    </tr>\n",
        "    <tr>\n",
        "      <th>std</th>\n",
        "      <td>   7.825804</td>\n",
        "      <td>   1.701577</td>\n",
        "      <td> 104.379583</td>\n",
        "      <td>  847.904119</td>\n",
        "      <td>   2.749995</td>\n",
        "      <td>   3.690005</td>\n",
        "      <td>   0.802549</td>\n",
        "    </tr>\n",
        "    <tr>\n",
        "      <th>min</th>\n",
        "      <td>   9.000000</td>\n",
        "      <td>   3.000000</td>\n",
        "      <td>  68.000000</td>\n",
        "      <td> 1613.000000</td>\n",
        "      <td>   8.000000</td>\n",
        "      <td>  70.000000</td>\n",
        "      <td>   1.000000</td>\n",
        "    </tr>\n",
        "    <tr>\n",
        "      <th>25%</th>\n",
        "      <td>  17.500000</td>\n",
        "      <td>   4.000000</td>\n",
        "      <td> 104.000000</td>\n",
        "      <td> 2223.000000</td>\n",
        "      <td>  13.800000</td>\n",
        "      <td>  73.000000</td>\n",
        "      <td>   1.000000</td>\n",
        "    </tr>\n",
        "    <tr>\n",
        "      <th>50%</th>\n",
        "      <td>  23.000000</td>\n",
        "      <td>   4.000000</td>\n",
        "      <td> 146.000000</td>\n",
        "      <td> 2800.000000</td>\n",
        "      <td>  15.500000</td>\n",
        "      <td>  76.000000</td>\n",
        "      <td>   1.000000</td>\n",
        "    </tr>\n",
        "    <tr>\n",
        "      <th>75%</th>\n",
        "      <td>  29.000000</td>\n",
        "      <td>   8.000000</td>\n",
        "      <td> 262.000000</td>\n",
        "      <td> 3609.000000</td>\n",
        "      <td>  17.100000</td>\n",
        "      <td>  79.000000</td>\n",
        "      <td>   2.000000</td>\n",
        "    </tr>\n",
        "    <tr>\n",
        "      <th>max</th>\n",
        "      <td>  46.600000</td>\n",
        "      <td>   8.000000</td>\n",
        "      <td> 455.000000</td>\n",
        "      <td> 5140.000000</td>\n",
        "      <td>  24.800000</td>\n",
        "      <td>  82.000000</td>\n",
        "      <td>   3.000000</td>\n",
        "    </tr>\n",
        "  </tbody>\n",
        "</table>\n",
        "<p>8 rows \u00d7 7 columns</p>\n",
        "</div>"
       ],
       "metadata": {},
       "output_type": "pyout",
       "prompt_number": 16,
       "text": [
        "              mpg   cylinders  displacement       weight  acceleration  \\\n",
        "count  397.000000  397.000000    397.000000   397.000000    397.000000   \n",
        "mean    23.515869    5.458438    193.532746  2970.261965     15.555668   \n",
        "std      7.825804    1.701577    104.379583   847.904119      2.749995   \n",
        "min      9.000000    3.000000     68.000000  1613.000000      8.000000   \n",
        "25%     17.500000    4.000000    104.000000  2223.000000     13.800000   \n",
        "50%     23.000000    4.000000    146.000000  2800.000000     15.500000   \n",
        "75%     29.000000    8.000000    262.000000  3609.000000     17.100000   \n",
        "max     46.600000    8.000000    455.000000  5140.000000     24.800000   \n",
        "\n",
        "             year      origin  \n",
        "count  397.000000  397.000000  \n",
        "mean    75.994962    1.574307  \n",
        "std      3.690005    0.802549  \n",
        "min     70.000000    1.000000  \n",
        "25%     73.000000    1.000000  \n",
        "50%     76.000000    1.000000  \n",
        "75%     79.000000    2.000000  \n",
        "max     82.000000    3.000000  \n",
        "\n",
        "[8 rows x 7 columns]"
       ]
      }
     ],
     "prompt_number": 16
    },
    {
     "cell_type": "code",
     "collapsed": false,
     "input": [
      "plt.ylabel(\"MPG\")\n",
      "auto_df.plot(x=\"cylinders\", y=\"mpg\", style='o')"
     ],
     "language": "python",
     "metadata": {},
     "outputs": [
      {
       "metadata": {},
       "output_type": "pyout",
       "prompt_number": 15,
       "text": [
        "<matplotlib.axes.AxesSubplot at 0xb9a71ec>"
       ]
      },
      {
       "metadata": {},
       "output_type": "display_data",
       "png": "[encoded data removed]",
       "text": [
        "<matplotlib.figure.Figure at 0xba44dac>"
       ]
      }
     ],
     "prompt_number": 15
    },
    {
     "cell_type": "code",
     "collapsed": false,
     "input": [
      "#Let us restrict the data frame to MPG and cylinders\n",
      "auto_df_restricted = auto_df[['cylinders', 'mpg']]\n",
      "sns.boxplot(auto_df_restricted, names=[\"MPG\", \"Cylinders\"], whis=np.inf\n",
      "        , color=\"coolwarm_r\"); # MPG distribution by number of cylinders"
     ],
     "language": "python",
     "metadata": {},
     "outputs": [
      {
       "metadata": {},
       "output_type": "pyout",
       "prompt_number": 34,
       "text": [
        "<matplotlib.axes.AxesSubplot at 0xc789d6c>"
       ]
      },
      {
       "metadata": {},
       "output_type": "display_data",
       "png": "[encoded data removed]",
       "text": [
        "<matplotlib.figure.Figure at 0xc79880c>"
       ]
      }
     ],
     "prompt_number": 34
    },
    {
     "cell_type": "code",
     "collapsed": false,
     "input": [
      "# similar to R pairs, shows correlation scatter plots between columns and distribution for each \n",
      "# column along the diagonal.\n",
      "# The R version that uses formulas does not seem to have a Python equivalent (and doesn't seem\n",
      "# to be very useful for exploratory analysis IMO).\n",
      "axes = pd.tools.plotting.scatter_matrix(auto_df, color=\"brown\")"
     ],
     "language": "python",
     "metadata": {},
     "outputs": [
      {
       "ename": "OverflowError",
       "evalue": "can't convert negative value to size_t",
       "output_type": "pyerr",
       "traceback": [
        "\u001b[1;31m---------------------------------------------------------------------------\u001b[0m\n\u001b[1;31mOverflowError\u001b[0m                             Traceback (most recent call last)",
        "\u001b[1;32m/home/peadar/.virtualenvs/DataViz/local/lib/python2.7/site-packages/IPython/kernel/zmq/pylab/backend_inline.pyc\u001b[0m in \u001b[0;36mshow\u001b[1;34m(close)\u001b[0m\n\u001b[0;32m     41\u001b[0m     \u001b[1;32mtry\u001b[0m\u001b[1;33m:\u001b[0m\u001b[1;33m\u001b[0m\u001b[0m\n\u001b[0;32m     42\u001b[0m         \u001b[1;32mfor\u001b[0m \u001b[0mfigure_manager\u001b[0m \u001b[1;32min\u001b[0m \u001b[0mGcf\u001b[0m\u001b[1;33m.\u001b[0m\u001b[0mget_all_fig_managers\u001b[0m\u001b[1;33m(\u001b[0m\u001b[1;33m)\u001b[0m\u001b[1;33m:\u001b[0m\u001b[1;33m\u001b[0m\u001b[0m\n\u001b[1;32m---> 43\u001b[1;33m             \u001b[0mdisplay\u001b[0m\u001b[1;33m(\u001b[0m\u001b[0mfigure_manager\u001b[0m\u001b[1;33m.\u001b[0m\u001b[0mcanvas\u001b[0m\u001b[1;33m.\u001b[0m\u001b[0mfigure\u001b[0m\u001b[1;33m)\u001b[0m\u001b[1;33m\u001b[0m\u001b[0m\n\u001b[0m\u001b[0;32m     44\u001b[0m     \u001b[1;32mfinally\u001b[0m\u001b[1;33m:\u001b[0m\u001b[1;33m\u001b[0m\u001b[0m\n\u001b[0;32m     45\u001b[0m         \u001b[0mshow\u001b[0m\u001b[1;33m.\u001b[0m\u001b[0m_to_draw\u001b[0m \u001b[1;33m=\u001b[0m \u001b[1;33m[\u001b[0m\u001b[1;33m]\u001b[0m\u001b[1;33m\u001b[0m\u001b[0m\n",
        "\u001b[1;32m/home/peadar/.virtualenvs/DataViz/local/lib/python2.7/site-packages/IPython/core/display.pyc\u001b[0m in \u001b[0;36mdisplay\u001b[1;34m(*objs, **kwargs)\u001b[0m\n\u001b[0;32m    133\u001b[0m                 \u001b[1;31m# kwarg-specified metadata gets precedence\u001b[0m\u001b[1;33m\u001b[0m\u001b[1;33m\u001b[0m\u001b[0m\n\u001b[0;32m    134\u001b[0m                 \u001b[0m_merge\u001b[0m\u001b[1;33m(\u001b[0m\u001b[0mmd_dict\u001b[0m\u001b[1;33m,\u001b[0m \u001b[0mmetadata\u001b[0m\u001b[1;33m)\u001b[0m\u001b[1;33m\u001b[0m\u001b[0m\n\u001b[1;32m--> 135\u001b[1;33m             \u001b[0mpublish_display_data\u001b[0m\u001b[1;33m(\u001b[0m\u001b[1;34m'display'\u001b[0m\u001b[1;33m,\u001b[0m \u001b[0mformat_dict\u001b[0m\u001b[1;33m,\u001b[0m \u001b[0mmd_dict\u001b[0m\u001b[1;33m)\u001b[0m\u001b[1;33m\u001b[0m\u001b[0m\n\u001b[0m\u001b[0;32m    136\u001b[0m \u001b[1;33m\u001b[0m\u001b[0m\n\u001b[0;32m    137\u001b[0m \u001b[1;33m\u001b[0m\u001b[0m\n",
        "\u001b[1;32m/home/peadar/.virtualenvs/DataViz/local/lib/python2.7/site-packages/IPython/core/displaypub.pyc\u001b[0m in \u001b[0;36mpublish_display_data\u001b[1;34m(source, data, metadata)\u001b[0m\n\u001b[0;32m    172\u001b[0m         \u001b[0msource\u001b[0m\u001b[1;33m,\u001b[0m\u001b[1;33m\u001b[0m\u001b[0m\n\u001b[0;32m    173\u001b[0m         \u001b[0mdata\u001b[0m\u001b[1;33m,\u001b[0m\u001b[1;33m\u001b[0m\u001b[0m\n\u001b[1;32m--> 174\u001b[1;33m         \u001b[0mmetadata\u001b[0m\u001b[1;33m\u001b[0m\u001b[0m\n\u001b[0m\u001b[0;32m    175\u001b[0m     )\n\u001b[0;32m    176\u001b[0m \u001b[1;33m\u001b[0m\u001b[0m\n",
        "\u001b[1;32m/home/peadar/.virtualenvs/DataViz/local/lib/python2.7/site-packages/IPython/kernel/zmq/zmqshell.pyc\u001b[0m in \u001b[0;36mpublish\u001b[1;34m(self, source, data, metadata)\u001b[0m\n\u001b[0;32m     86\u001b[0m         self.session.send(\n\u001b[0;32m     87\u001b[0m             \u001b[0mself\u001b[0m\u001b[1;33m.\u001b[0m\u001b[0mpub_socket\u001b[0m\u001b[1;33m,\u001b[0m \u001b[1;34mu'display_data'\u001b[0m\u001b[1;33m,\u001b[0m \u001b[0mjson_clean\u001b[0m\u001b[1;33m(\u001b[0m\u001b[0mcontent\u001b[0m\u001b[1;33m)\u001b[0m\u001b[1;33m,\u001b[0m\u001b[1;33m\u001b[0m\u001b[0m\n\u001b[1;32m---> 88\u001b[1;33m             \u001b[0mparent\u001b[0m\u001b[1;33m=\u001b[0m\u001b[0mself\u001b[0m\u001b[1;33m.\u001b[0m\u001b[0mparent_header\u001b[0m\u001b[1;33m,\u001b[0m \u001b[0mident\u001b[0m\u001b[1;33m=\u001b[0m\u001b[0mself\u001b[0m\u001b[1;33m.\u001b[0m\u001b[0mtopic\u001b[0m\u001b[1;33m,\u001b[0m\u001b[1;33m\u001b[0m\u001b[0m\n\u001b[0m\u001b[0;32m     89\u001b[0m         )\n\u001b[0;32m     90\u001b[0m \u001b[1;33m\u001b[0m\u001b[0m\n",
        "\u001b[1;32m/home/peadar/.virtualenvs/DataViz/local/lib/python2.7/site-packages/IPython/kernel/zmq/session.pyc\u001b[0m in \u001b[0;36msend\u001b[1;34m(self, stream, msg_or_type, content, parent, ident, buffers, track, header, metadata)\u001b[0m\n\u001b[0;32m    644\u001b[0m             \u001b[1;31m# use dummy tracker, which will be done immediately\u001b[0m\u001b[1;33m\u001b[0m\u001b[1;33m\u001b[0m\u001b[0m\n\u001b[0;32m    645\u001b[0m             \u001b[0mtracker\u001b[0m \u001b[1;33m=\u001b[0m \u001b[0mDONE\u001b[0m\u001b[1;33m\u001b[0m\u001b[0m\n\u001b[1;32m--> 646\u001b[1;33m             \u001b[0mstream\u001b[0m\u001b[1;33m.\u001b[0m\u001b[0msend_multipart\u001b[0m\u001b[1;33m(\u001b[0m\u001b[0mto_send\u001b[0m\u001b[1;33m,\u001b[0m \u001b[0mcopy\u001b[0m\u001b[1;33m=\u001b[0m\u001b[0mcopy\u001b[0m\u001b[1;33m)\u001b[0m\u001b[1;33m\u001b[0m\u001b[0m\n\u001b[0m\u001b[0;32m    647\u001b[0m \u001b[1;33m\u001b[0m\u001b[0m\n\u001b[0;32m    648\u001b[0m         \u001b[1;32mif\u001b[0m \u001b[0mself\u001b[0m\u001b[1;33m.\u001b[0m\u001b[0mdebug\u001b[0m\u001b[1;33m:\u001b[0m\u001b[1;33m\u001b[0m\u001b[0m\n",
        "\u001b[1;32m/home/peadar/.virtualenvs/DataViz/local/lib/python2.7/site-packages/zmq/sugar/socket.pyc\u001b[0m in \u001b[0;36msend_multipart\u001b[1;34m(self, msg_parts, flags, copy, track)\u001b[0m\n\u001b[0;32m    263\u001b[0m         \u001b[1;33m-\u001b[0m\u001b[1;33m-\u001b[0m\u001b[1;33m-\u001b[0m\u001b[1;33m-\u001b[0m\u001b[1;33m-\u001b[0m\u001b[1;33m-\u001b[0m\u001b[1;33m-\u001b[0m\u001b[1;33m\u001b[0m\u001b[0m\n\u001b[0;32m    264\u001b[0m         \u001b[0mNone\u001b[0m \u001b[1;33m:\u001b[0m \u001b[1;32mif\u001b[0m \u001b[0mcopy\u001b[0m \u001b[1;32mor\u001b[0m \u001b[1;32mnot\u001b[0m \u001b[0mtrack\u001b[0m\u001b[1;33m\u001b[0m\u001b[0m\n\u001b[1;32m--> 265\u001b[1;33m         \u001b[0mMessageTracker\u001b[0m \u001b[1;33m:\u001b[0m \u001b[1;32mif\u001b[0m \u001b[0mtrack\u001b[0m \u001b[1;32mand\u001b[0m \u001b[1;32mnot\u001b[0m \u001b[0mcopy\u001b[0m\u001b[1;33m\u001b[0m\u001b[0m\n\u001b[0m\u001b[0;32m    266\u001b[0m             \u001b[0ma\u001b[0m \u001b[0mMessageTracker\u001b[0m \u001b[0mobject\u001b[0m\u001b[1;33m,\u001b[0m \u001b[0mwhose\u001b[0m \u001b[1;33m`\u001b[0m\u001b[0mpending\u001b[0m\u001b[1;33m`\u001b[0m \u001b[0mproperty\u001b[0m \u001b[0mwill\u001b[0m\u001b[1;33m\u001b[0m\u001b[0m\n\u001b[0;32m    267\u001b[0m             \u001b[0mbe\u001b[0m \u001b[0mTrue\u001b[0m \u001b[0muntil\u001b[0m \u001b[0mthe\u001b[0m \u001b[0mlast\u001b[0m \u001b[0msend\u001b[0m \u001b[1;32mis\u001b[0m \u001b[0mcompleted\u001b[0m\u001b[1;33m.\u001b[0m\u001b[1;33m\u001b[0m\u001b[0m\n",
        "\u001b[1;32m/home/peadar/.virtualenvs/DataViz/local/lib/python2.7/site-packages/zmq/backend/cython/socket.so\u001b[0m in \u001b[0;36mzmq.backend.cython.socket.Socket.send (zmq/backend/cython/socket.c:5461)\u001b[1;34m()\u001b[0m\n",
        "\u001b[1;32m/home/peadar/.virtualenvs/DataViz/local/lib/python2.7/site-packages/zmq/backend/cython/socket.so\u001b[0m in \u001b[0;36mzmq.backend.cython.socket.Socket.send (zmq/backend/cython/socket.c:5309)\u001b[1;34m()\u001b[0m\n",
        "\u001b[1;32m/home/peadar/.virtualenvs/DataViz/local/lib/python2.7/site-packages/zmq/backend/cython/message.so\u001b[0m in \u001b[0;36mzmq.backend.cython.message.Frame.__cinit__ (zmq/backend/cython/message.c:1681)\u001b[1;34m()\u001b[0m\n",
        "\u001b[1;31mOverflowError\u001b[0m: can't convert negative value to size_t"
       ]
      }
     ],
     "prompt_number": 24
    }
   ],
   "metadata": {}
  }
 ]
}